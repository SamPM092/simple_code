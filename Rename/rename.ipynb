{
 "cells": [
  {
   "cell_type": "code",
   "execution_count": 8,
   "id": "38dee23d-3e36-4915-a889-6ce83cdc5a24",
   "metadata": {},
   "outputs": [
    {
     "name": "stdout",
     "output_type": "stream",
     "text": [
      "Files renamed successfully.\n"
     ]
    }
   ],
   "source": [
    "import os\n",
    "import shutil\n",
    "\n",
    "# Set the folder path\n",
    "folder_path = \"Citrus/Black spot\"\n",
    "\n",
    "# Get a list of files in the folder\n",
    "file_list = os.listdir(folder_path)\n",
    "\n",
    "# Sort the list of files\n",
    "file_list.sort()\n",
    "\n",
    "# Define a new name pattern\n",
    "new_name_pattern = \"BSpot{}.png\"  # You can modify the pattern as needed\n",
    "\n",
    "# Iterate through the sorted files and rename them\n",
    "for index, filename in enumerate(file_list):\n",
    "    old_path = os.path.join(folder_path, filename)\n",
    "    new_name = new_name_pattern.format(index)\n",
    "    new_path = os.path.join(folder_path, new_name)\n",
    "    \n",
    "    # Rename the file\n",
    "    shutil.move(old_path, new_path)\n",
    "\n",
    "print(\"Files renamed successfully.\")\n"
   ]
  }
 ],
 "metadata": {
  "kernelspec": {
   "display_name": "Python 3 (ipykernel)",
   "language": "python",
   "name": "python3"
  },
  "language_info": {
   "codemirror_mode": {
    "name": "ipython",
    "version": 3
   },
   "file_extension": ".py",
   "mimetype": "text/x-python",
   "name": "python",
   "nbconvert_exporter": "python",
   "pygments_lexer": "ipython3",
   "version": "3.10.6"
  }
 },
 "nbformat": 4,
 "nbformat_minor": 5
}
