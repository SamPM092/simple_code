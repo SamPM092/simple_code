{
 "cells": [
  {
   "cell_type": "code",
   "execution_count": 54,
   "id": "d8904bde",
   "metadata": {},
   "outputs": [],
   "source": [
    "import os\n",
    "import numpy as np\n",
    "import random\n",
    "import tkinter as tk\n",
    "from tkinter import ttk\n",
    "\n",
    "data_path = \"D:\\Anime\""
   ]
  },
  {
   "cell_type": "code",
   "execution_count": 55,
   "id": "532a8865",
   "metadata": {},
   "outputs": [],
   "source": [
    "def button_clicked():\n",
    "    folder_names = [name for name in os.listdir(data_path) if os.path.isdir(os.path.join(data_path, name))]\n",
    "    max_number = (len(folder_names)-1)\n",
    "    random_number = random.randint(0, max_number)\n",
    "    \n",
    "    output_label.config(text= folder_names[random_number])\n",
    "\n",
    "#     print(\"Folder names:\", folder_names[random_number])\n",
    " \n",
    "    \n",
    "    "
   ]
  },
  {
   "cell_type": "code",
   "execution_count": 69,
   "id": "9c2a01c9",
   "metadata": {},
   "outputs": [],
   "source": [
    "# Create the main window\n",
    "window = tk.Tk()\n",
    "window.title(\"Click the fckin button\")\n",
    "\n",
    "button = tk.Button(window, text=\"Click Me\", command=button_clicked, padx =20)\n",
    "button.pack()\n",
    "\n",
    "arial = (\"Arial\", 20, \"bold italic\")\n",
    "arial1 = (\"Arial\", 15)\n",
    "\n",
    "text = tk.Label(window, text=\"VVhat you should vvatch next :\", pady=10, font=arial1)\n",
    "text.pack()\n",
    "output_label = tk.Label(window, text=\"Output Text\", pady=50, font=arial)\n",
    "output_label.pack()\n",
    "window_width = 400\n",
    "window_height = 200\n",
    "\n",
    "window.geometry(f\"{window_width}x{window_height}\")\n",
    "\n",
    "# Start the Tkinter event loop\n",
    "window.mainloop()"
   ]
  }
 ],
 "metadata": {
  "kernelspec": {
   "display_name": "Python 3 (ipykernel)",
   "language": "python",
   "name": "python3"
  },
  "language_info": {
   "codemirror_mode": {
    "name": "ipython",
    "version": 3
   },
   "file_extension": ".py",
   "mimetype": "text/x-python",
   "name": "python",
   "nbconvert_exporter": "python",
   "pygments_lexer": "ipython3",
   "version": "3.8.1"
  }
 },
 "nbformat": 4,
 "nbformat_minor": 5
}
