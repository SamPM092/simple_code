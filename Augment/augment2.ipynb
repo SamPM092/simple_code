{
 "cells": [
  {
   "cell_type": "code",
   "execution_count": 5,
   "id": "5fab91fe-9b49-4c00-adf4-3a38f0f1da65",
   "metadata": {},
   "outputs": [
    {
     "name": "stderr",
     "output_type": "stream",
     "text": [
      "C:\\Users\\ACER\\AppData\\Local\\Temp\\ipykernel_2608\\2604871069.py:26: DeprecationWarning: Starting with ImageIO v3 the behavior of this function will switch to that of iio.v3.imread. To keep the current behavior (and make this warning disappear) use `import imageio.v2 as imageio` or call `imageio.v2.imread` directly.\n",
      "  image = imageio.imread(input_path)\n"
     ]
    },
    {
     "name": "stdout",
     "output_type": "stream",
     "text": [
      "Augmentation and saving complete.\n"
     ]
    }
   ],
   "source": [
    "import os\n",
    "import imageio\n",
    "import imgaug.augmenters as iaa\n",
    "import numpy as np\n",
    "from PIL import Image\n",
    "\n",
    "# Set paths\n",
    "input_folder = \"Citrus/healthy\"\n",
    "output_folder = \"augmented_images1\"\n",
    "\n",
    "# Create the output folder if it doesn't exist\n",
    "if not os.path.exists(output_folder):\n",
    "    os.makedirs(output_folder)\n",
    "\n",
    "# Define data augmentation pipeline\n",
    "augmentation_pipeline = iaa.Sequential([\n",
    "    iaa.Fliplr(0.5),        # Flip horizontally with a 50% chance\n",
    "    iaa.Affine(rotate=(180)),  # Rotate between -25 and 25 degrees\n",
    "    iaa.GaussianBlur(sigma=(0, 1.0))  # Apply Gaussian blur with a sigma between 0 and 1.0\n",
    "])\n",
    "\n",
    "# Loop through input images\n",
    "for filename in os.listdir(input_folder):\n",
    "    if filename.endswith(\".png\"):\n",
    "        input_path = os.path.join(input_folder, filename)\n",
    "        image = imageio.imread(input_path)\n",
    "        \n",
    "        # Generate augmented images\n",
    "        augmented_images = augmentation_pipeline(images=np.array([image]))\n",
    "        \n",
    "        # Save augmented images to the output folder\n",
    "        for i, augmented_image in enumerate(augmented_images):\n",
    "            output_path = os.path.join(output_folder, f\"augmented_{i}_{filename}\")\n",
    "            imageio.imwrite(output_path, augmented_image)\n",
    "\n",
    "print(\"Augmentation and saving complete.\")\n"
   ]
  }
 ],
 "metadata": {
  "kernelspec": {
   "display_name": "Python 3 (ipykernel)",
   "language": "python",
   "name": "python3"
  },
  "language_info": {
   "codemirror_mode": {
    "name": "ipython",
    "version": 3
   },
   "file_extension": ".py",
   "mimetype": "text/x-python",
   "name": "python",
   "nbconvert_exporter": "python",
   "pygments_lexer": "ipython3",
   "version": "3.10.6"
  }
 },
 "nbformat": 4,
 "nbformat_minor": 5
}
